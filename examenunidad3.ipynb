{
 "cells": [
  {
   "cell_type": "code",
   "execution_count": 1,
   "metadata": {},
   "outputs": [
    {
     "name": "stdout",
     "output_type": "stream",
     "text": [
      "[+] se ha procesado  1\n",
      "[+] se ha procesado  2\n",
      "[-] procesador 1 finalizado\n",
      "[-] procesador 2 finalizado\n",
      "[*] all threads finished\n"
     ]
    }
   ],
   "source": [
    "import threading\n",
    "import time\n",
    "\n",
    "NTHREADS=2\n",
    "\n",
    "def hilo(i):\n",
    "    \"\"\"\n",
    " :param i: numero de procesador a efectos ilustrativos\n",
    " :return: nada\n",
    " \"\"\"\n",
    "    print (\"[+] se ha procesado  %d\" % i)\n",
    "    time.sleep(3)\n",
    "    print (\"[-] procesador %d finalizado\" % i)\n",
    "\n",
    "\n",
    "simplethread=[]\n",
    "for i in range(NTHREADS):\n",
    "    # arranque y comienzo de procesador num i+1\n",
    "    simplethread.append(threading.Thread(target=hilo, args=[i+1]))\n",
    "    simplethread[-1].start()\n",
    "\n",
    "for i in range(NTHREADS):\n",
    "    # esperamos que acabe el procesador num i\n",
    "    simplethread[i].join()\n",
    "\n",
    "print (\"[*] all threads finished\")\n"
   ]
  },
  {
   "cell_type": "code",
   "execution_count": null,
   "metadata": {
    "collapsed": true
   },
   "outputs": [],
   "source": []
  }
 ],
 "metadata": {
  "kernelspec": {
   "display_name": "Python 3",
   "language": "python",
   "name": "python3"
  },
  "language_info": {
   "codemirror_mode": {
    "name": "ipython",
    "version": 3
   },
   "file_extension": ".py",
   "mimetype": "text/x-python",
   "name": "python",
   "nbconvert_exporter": "python",
   "pygments_lexer": "ipython3",
   "version": "3.6.1"
  }
 },
 "nbformat": 4,
 "nbformat_minor": 2
}
